{
 "metadata": {
  "language_info": {
   "codemirror_mode": {
    "name": "ipython",
    "version": 3
   },
   "file_extension": ".py",
   "mimetype": "text/x-python",
   "name": "python",
   "nbconvert_exporter": "python",
   "pygments_lexer": "ipython3",
   "version": "3.8.10"
  },
  "orig_nbformat": 4,
  "kernelspec": {
   "name": "python3",
   "display_name": "Python 3.8.5 64-bit"
  },
  "interpreter": {
   "hash": "31f2aee4e71d21fbe5cf8b01ff0e069b9275f58929596ceb00d14d90e3e16cd6"
  }
 },
 "nbformat": 4,
 "nbformat_minor": 2,
 "cells": [
  {
   "cell_type": "code",
   "execution_count": 1,
   "metadata": {},
   "outputs": [],
   "source": [
    "import pandas as pd \n",
    "df1 = pd.read_csv('dframe_1.csv')\n",
    "df2 = pd.read_csv('dframe_2.csv')\n",
    "df3 = pd.read_csv('dframe_3.csv')\n",
    "\n",
    "df1['T_sec'] = pd.to_datetime(df1[\"DateTime\"]).dt.round('1s').dt.strftime('%Y-%m-%d %H:%M:%S:%f').str[:-4]\n",
    "df2['T_sec'] = pd.to_datetime(df2[\"DateTime\"]).dt.round('1s').dt.strftime('%Y-%m-%d %H:%M:%S:%f').str[:-4]\n",
    "df3['T_sec'] = pd.to_datetime(df3[\"DateTime\"]).dt.round('1s').dt.strftime('%Y-%m-%d %H:%M:%S:%f').str[:-4]\n",
    "\n",
    "sec_list = df1['T_sec'].tolist()\n",
    "sec_list = df2.loc[df2['T_sec'].isin(sec_list)]['T_sec'].tolist()\n",
    "sec_list = df3.loc[df3['T_sec'].isin(sec_list)]['T_sec'].tolist()\n",
    "\n",
    "df1 = df1.loc[df1['T_sec'].isin(sec_list)]\n",
    "df2 = df2.loc[df2['T_sec'].isin(sec_list)]\n",
    "df3 = df3.loc[df3['T_sec'].isin(sec_list)]\n",
    "\n",
    "df1.to_csv('dframe_1_m.csv', sep='\\t', encoding='utf-8')\n",
    "df2.to_csv('dframe_2_m.csv', sep='\\t', encoding='utf-8')\n",
    "df3.to_csv('dframe_3_m.csv', sep='\\t', encoding='utf-8')\n"
   ]
  },
  {
   "cell_type": "code",
   "execution_count": null,
   "metadata": {},
   "outputs": [],
   "source": []
  }
 ]
}