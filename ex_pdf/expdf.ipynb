{
 "cells": [
  {
   "cell_type": "code",
   "execution_count": 4,
   "source": [
    "import PyPDF2 \n",
    "    \n",
    "with open('example.pdf', 'rb') as pdfFile:\n",
    "    pdfReader = PyPDF2.PdfFileReader(pdfFile) \n",
    "    pages = pdfReader.numPages\n",
    "\n",
    "    texts = \"\"\n",
    "    for i in range (pages):\n",
    "        pageObj = pdfReader.getPage(i)\n",
    "        texts += pageObj.extractText()\n",
    "    \n",
    "    print(texts)\n"
   ],
   "outputs": [
    {
     "output_type": "stream",
     "name": "stdout",
     "text": [
      "Welcome to Smallpdf\n",
      "Digital DocumentsŠAll In One Place\n",
      "Access Files Anytime, Anywhere \n",
      "Enhance Documents in One Click \n",
      "Collaborate With Others \n",
      "With the new Smallpdf experience, you can \n",
      "freely upload, organize, and share digital \n",
      "documents. When you enable the \n",
      "‚Storage™ \n",
      "option\n",
      "\n",
      "\n",
      "your computer, phone, or tablet. We™ll also \n",
      "\n",
      "Smallpdf Mobile App to our \n",
      "online portal\n",
      "\n",
      "you with an array of options to convert, \n",
      "compress, or modify it. \n",
      "Forget mundane administrative tasks. With \n",
      "Smallpdf, you can request e-signatures, send \n",
      "\n",
      "Smallpdf G Suite \n",
      "App for your entire organization. \n",
      "Ready to take document management to the next level? \n",
      "\n"
     ]
    }
   ],
   "metadata": {}
  }
 ],
 "metadata": {
  "orig_nbformat": 4,
  "language_info": {
   "name": "python"
  }
 },
 "nbformat": 4,
 "nbformat_minor": 2
}