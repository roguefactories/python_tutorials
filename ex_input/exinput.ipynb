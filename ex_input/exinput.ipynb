{
 "metadata": {
  "language_info": {
   "codemirror_mode": {
    "name": "ipython",
    "version": 3
   },
   "file_extension": ".py",
   "mimetype": "text/x-python",
   "name": "python",
   "nbconvert_exporter": "python",
   "pygments_lexer": "ipython3",
   "version": "3.8.10"
  },
  "orig_nbformat": 4,
  "kernelspec": {
   "name": "python3",
   "display_name": "Python 3.8.5 64-bit"
  },
  "interpreter": {
   "hash": "31f2aee4e71d21fbe5cf8b01ff0e069b9275f58929596ceb00d14d90e3e16cd6"
  }
 },
 "nbformat": 4,
 "nbformat_minor": 2,
 "cells": [
  {
   "cell_type": "code",
   "execution_count": 39,
   "metadata": {},
   "outputs": [
    {
     "output_type": "stream",
     "name": "stdout",
     "text": [
      "Enter numbers : \n",
      "\n",
      "Do you want to finish data entry (Y/N)?\n",
      "\n",
      "[2.0, 6.0, 4.0, 8.0]\n",
      "Min :  2.0\n",
      "Max :  8.0\n",
      "Avg :  5.0\n",
      "Med :  5.0\n",
      "Std :  2.23606797749979\n",
      "Min :  2.0\n",
      "Max :  8.0\n",
      "Avg :  5.0\n",
      "Med :  5.0\n",
      "Std :  2.23606797749979\n"
     ]
    }
   ],
   "source": [
    "def mean(lst):\n",
    "    return sum(numbers)/len(numbers)\n",
    "\n",
    "def median(lst):\n",
    "    data = sorted(lst)\n",
    "    mid = len(data) // 2\n",
    "    return (data[mid] + data[~mid]) / 2\n",
    "\n",
    "def stddev(lst):\n",
    "    avg = mean(lst)\n",
    "    var = sum([(x - avg) ** 2 for x in lst])/len(lst)\n",
    "    return var**0.5\n",
    "\n",
    "numbers = []\n",
    "print('Enter numbers : \\n')\n",
    "while True:\n",
    "    line = input()\n",
    "    try:        \n",
    "        numbers.append(float(line.strip()))\n",
    "    except ValueError:\n",
    "        print('Do you want to finish data entry (Y/N)?\\n')\n",
    "        p = input()\n",
    "        if p.strip().lower() == 'n':\n",
    "            continue\n",
    "        else:\n",
    "            break\n",
    "\n",
    "print(numbers)\n",
    "if len(numbers) :\n",
    "    print('Min : ', min(numbers))\n",
    "    print('Max : ', max(numbers))\n",
    "    avg = mean(numbers)\n",
    "    print('Avg : ', avg)\n",
    "    md = median(numbers)\n",
    "    print('Med : ', md)\n",
    "    sd = stddev(numbers)\n",
    "    print('Std : ', sd)\n",
    "\n",
    "    # Using numpy to check the results\n",
    "    import numpy as np\n",
    "    \n",
    "    nlst = np.array(numbers)\n",
    "    print('Min : ', nlst.min())\n",
    "    print('Max : ', nlst.max())\n",
    "    print('Avg : ', nlst.mean())\n",
    "    print('Med : ', np.median(nlst))\n",
    "    print('Std : ', np.std(nlst))\n",
    "\n"
   ]
  },
  {
   "cell_type": "code",
   "execution_count": null,
   "metadata": {},
   "outputs": [],
   "source": []
  }
 ]
}